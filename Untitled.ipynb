{
 "cells": [
  {
   "cell_type": "code",
   "execution_count": 1,
   "metadata": {},
   "outputs": [],
   "source": [
    "import numpy as np\n",
    "from sklearn.datasets import load_boston\n",
    "from sklearn.linear_model import SGDRegressor\n",
    "from sklearn.model_selection import cross_val_score\n",
    "from sklearn.preprocessing import StandardScaler\n",
    "from sklearn.model_selection import train_test_split"
   ]
  },
  {
   "cell_type": "code",
   "execution_count": 9,
   "metadata": {},
   "outputs": [],
   "source": [
    "data = load_boston()\n",
    "X_train, X_test, y_train, y_test = train_test_split(data.data,data.target)"
   ]
  },
  {
   "cell_type": "code",
   "execution_count": 11,
   "metadata": {},
   "outputs": [
    {
     "ename": "ValueError",
     "evalue": "Expected 2D array, got 1D array instead:\narray=[28.7 50.  28.  25.  20.6 13.8 10.9 18.5 17.8 19.2 13.6 12.3 43.5 17.2\n 17.6 14.5 18.5 20.  14.1 27.  19.9 16.1 22.3 37.6 42.3 27.5 17.4 37.3\n 18.7 24.1 12.  16.8 19.4  7.  23.6 13.9 23.3 20.8 20.  28.5 26.6 16.1\n 22.  23.6 19.1 44.  15.7 34.9 19.9 23.  20.1 29.8 19.6 13.4 16.6 30.8\n 36.  14.9 18.3 21.7 22.6 13.1 21.7 21.6 20.1 28.2 23.9 24.5 19.1 24.3\n 20.6 15.6 22.  19.5  9.5 13.8 33.  16.4 30.1 21.7 21.4 18.9 29.6 22.8\n 29.9 29.6 17.  10.2 22.6 21.2  7.4 14.4 23.1 22.6 20.4 36.4 22.9 19.4\n 35.4 29.  41.3 14.6 18.  44.8 15.6 50.  24.  20.3 17.4 20.4 23.8 19.1\n 23.9 25.  19.6 21.2 30.5 18.3 20.2 21.9 22.8 11.8 33.8 45.4 14.3 18.9\n 20.3 14.4 18.4 22.9 12.5 19.9 20.2 17.8 18.1 50.  31.2 21.9 17.9 23.8\n 19.9 19.5 24.1 13.5 14.2 13.8 33.4 15.6 30.1 22.5 32.7 23.2 27.9 20.5\n 50.  20.9 18.5 13.3 23.8 24.5 41.7 21.9 24.7 18.6  8.5 15.2 11.8 14.8\n 36.1 22.5 22.6 25.  46.7 22.9 21.  16.7 22.  30.7 19.4 32.  19.3 27.1\n 18.2 18.4  8.4 14.9 19.4 26.7 16.8 21.2 24.8 22.3 10.2 12.7 37.  20.1\n  6.3 24.8 33.1 17.7 17.5 10.8 22.7 21.8 16.5 20.8 36.2 32.9 20.7 23.4\n 21.4  8.8 32.  21.  13.9 27.5 17.2 18.9 33.3 10.2 17.2 22.8 22.  22.5\n 23.1 20.6 12.7 24.7 39.8 28.4 19.3 20.6 24.  20.3 34.9 12.6 24.8 19.3\n 10.9 28.6 23.2 21.5 15.6 26.4 14.3 24.4 36.5 24.6 16.5 43.1 11.7 18.2\n 20.  19.4 17.4 17.5 20.3 23.1 23.3 19.  28.7 34.7 17.1  8.4 50.  24.7\n 22.  11.5 23.1 22.  46.  24.3 13.3 13.4 22.8 16.6 18.8 50.  17.3 31.1\n 21.2 15.4 11.  20.9 20.  16.2 32.2 15.2  8.8 26.5 24.4 11.9 14.9 12.8\n 16.7 24.2 25.  23.  23.  24.5 18.7 20.6  7.2 50.  27.5 28.1 19.5 15.3\n 30.3 15.1 20.4 13.1 13.4 21.7 23.7 31.6 19.4 21.5 23.2 50.   7.2 12.1\n 22.9 25.  19.3 19.8 27.5 21.7 31.5 50.  14.5 21.2 13.  17.8 25.2 22.4\n 18.9 13.3 18.5 26.6 19.8 22.  10.4 48.3 26.4 22.2 10.4 50.  33.4 20.5\n 15.   5.  28.7 23.7 20.7 20.  20.4 29.1 29.8  8.3 21.4 23.5 21.  33.2\n 16.1 23.7 31.7 24.3 23.8 19.  14.  23.1 22.2 13.4 27.1  5.6 29.1 10.5\n 13.8].\nReshape your data either using array.reshape(-1, 1) if your data has a single feature or array.reshape(1, -1) if it contains a single sample.",
     "output_type": "error",
     "traceback": [
      "\u001b[0;31m---------------------------------------------------------------------------\u001b[0m",
      "\u001b[0;31mValueError\u001b[0m                                Traceback (most recent call last)",
      "\u001b[0;32m<ipython-input-11-61bc7b721c58>\u001b[0m in \u001b[0;36m<module>\u001b[0;34m\u001b[0m\n\u001b[1;32m      2\u001b[0m \u001b[0my_scaler\u001b[0m \u001b[0;34m=\u001b[0m \u001b[0mStandardScaler\u001b[0m\u001b[0;34m(\u001b[0m\u001b[0;34m)\u001b[0m\u001b[0;34m\u001b[0m\u001b[0m\n\u001b[1;32m      3\u001b[0m \u001b[0mX_train\u001b[0m \u001b[0;34m=\u001b[0m \u001b[0mX_scaler\u001b[0m\u001b[0;34m.\u001b[0m\u001b[0mfit_transform\u001b[0m\u001b[0;34m(\u001b[0m\u001b[0mX_train\u001b[0m\u001b[0;34m)\u001b[0m\u001b[0;34m\u001b[0m\u001b[0m\n\u001b[0;32m----> 4\u001b[0;31m \u001b[0my_train\u001b[0m \u001b[0;34m=\u001b[0m \u001b[0my_scaler\u001b[0m\u001b[0;34m.\u001b[0m\u001b[0mfit_transform\u001b[0m\u001b[0;34m(\u001b[0m\u001b[0my_train\u001b[0m\u001b[0;34m)\u001b[0m\u001b[0;34m\u001b[0m\u001b[0m\n\u001b[0m\u001b[1;32m      5\u001b[0m \u001b[0mX_test\u001b[0m \u001b[0;34m=\u001b[0m \u001b[0mX_scaler\u001b[0m\u001b[0;34m.\u001b[0m\u001b[0mtransform\u001b[0m\u001b[0;34m(\u001b[0m\u001b[0mX_test\u001b[0m\u001b[0;34m)\u001b[0m\u001b[0;34m\u001b[0m\u001b[0m\n\u001b[1;32m      6\u001b[0m \u001b[0my_test\u001b[0m \u001b[0;34m=\u001b[0m \u001b[0my_scaler\u001b[0m\u001b[0;34m.\u001b[0m\u001b[0mtransform\u001b[0m\u001b[0;34m(\u001b[0m\u001b[0my_test\u001b[0m\u001b[0;34m)\u001b[0m\u001b[0;34m\u001b[0m\u001b[0m\n",
      "\u001b[0;32m/Library/Frameworks/Python.framework/Versions/3.7/lib/python3.7/site-packages/sklearn/base.py\u001b[0m in \u001b[0;36mfit_transform\u001b[0;34m(self, X, y, **fit_params)\u001b[0m\n\u001b[1;32m    460\u001b[0m         \u001b[0;32mif\u001b[0m \u001b[0my\u001b[0m \u001b[0;32mis\u001b[0m \u001b[0;32mNone\u001b[0m\u001b[0;34m:\u001b[0m\u001b[0;34m\u001b[0m\u001b[0m\n\u001b[1;32m    461\u001b[0m             \u001b[0;31m# fit method of arity 1 (unsupervised transformation)\u001b[0m\u001b[0;34m\u001b[0m\u001b[0;34m\u001b[0m\u001b[0m\n\u001b[0;32m--> 462\u001b[0;31m             \u001b[0;32mreturn\u001b[0m \u001b[0mself\u001b[0m\u001b[0;34m.\u001b[0m\u001b[0mfit\u001b[0m\u001b[0;34m(\u001b[0m\u001b[0mX\u001b[0m\u001b[0;34m,\u001b[0m \u001b[0;34m**\u001b[0m\u001b[0mfit_params\u001b[0m\u001b[0;34m)\u001b[0m\u001b[0;34m.\u001b[0m\u001b[0mtransform\u001b[0m\u001b[0;34m(\u001b[0m\u001b[0mX\u001b[0m\u001b[0;34m)\u001b[0m\u001b[0;34m\u001b[0m\u001b[0m\n\u001b[0m\u001b[1;32m    463\u001b[0m         \u001b[0;32melse\u001b[0m\u001b[0;34m:\u001b[0m\u001b[0;34m\u001b[0m\u001b[0m\n\u001b[1;32m    464\u001b[0m             \u001b[0;31m# fit method of arity 2 (supervised transformation)\u001b[0m\u001b[0;34m\u001b[0m\u001b[0;34m\u001b[0m\u001b[0m\n",
      "\u001b[0;32m/Library/Frameworks/Python.framework/Versions/3.7/lib/python3.7/site-packages/sklearn/preprocessing/data.py\u001b[0m in \u001b[0;36mfit\u001b[0;34m(self, X, y)\u001b[0m\n\u001b[1;32m    623\u001b[0m         \u001b[0;31m# Reset internal state before fitting\u001b[0m\u001b[0;34m\u001b[0m\u001b[0;34m\u001b[0m\u001b[0m\n\u001b[1;32m    624\u001b[0m         \u001b[0mself\u001b[0m\u001b[0;34m.\u001b[0m\u001b[0m_reset\u001b[0m\u001b[0;34m(\u001b[0m\u001b[0;34m)\u001b[0m\u001b[0;34m\u001b[0m\u001b[0m\n\u001b[0;32m--> 625\u001b[0;31m         \u001b[0;32mreturn\u001b[0m \u001b[0mself\u001b[0m\u001b[0;34m.\u001b[0m\u001b[0mpartial_fit\u001b[0m\u001b[0;34m(\u001b[0m\u001b[0mX\u001b[0m\u001b[0;34m,\u001b[0m \u001b[0my\u001b[0m\u001b[0;34m)\u001b[0m\u001b[0;34m\u001b[0m\u001b[0m\n\u001b[0m\u001b[1;32m    626\u001b[0m \u001b[0;34m\u001b[0m\u001b[0m\n\u001b[1;32m    627\u001b[0m     \u001b[0;32mdef\u001b[0m \u001b[0mpartial_fit\u001b[0m\u001b[0;34m(\u001b[0m\u001b[0mself\u001b[0m\u001b[0;34m,\u001b[0m \u001b[0mX\u001b[0m\u001b[0;34m,\u001b[0m \u001b[0my\u001b[0m\u001b[0;34m=\u001b[0m\u001b[0;32mNone\u001b[0m\u001b[0;34m)\u001b[0m\u001b[0;34m:\u001b[0m\u001b[0;34m\u001b[0m\u001b[0m\n",
      "\u001b[0;32m/Library/Frameworks/Python.framework/Versions/3.7/lib/python3.7/site-packages/sklearn/preprocessing/data.py\u001b[0m in \u001b[0;36mpartial_fit\u001b[0;34m(self, X, y)\u001b[0m\n\u001b[1;32m    647\u001b[0m         X = check_array(X, accept_sparse=('csr', 'csc'), copy=self.copy,\n\u001b[1;32m    648\u001b[0m                         \u001b[0mwarn_on_dtype\u001b[0m\u001b[0;34m=\u001b[0m\u001b[0;32mTrue\u001b[0m\u001b[0;34m,\u001b[0m \u001b[0mestimator\u001b[0m\u001b[0;34m=\u001b[0m\u001b[0mself\u001b[0m\u001b[0;34m,\u001b[0m \u001b[0mdtype\u001b[0m\u001b[0;34m=\u001b[0m\u001b[0mFLOAT_DTYPES\u001b[0m\u001b[0;34m,\u001b[0m\u001b[0;34m\u001b[0m\u001b[0m\n\u001b[0;32m--> 649\u001b[0;31m                         force_all_finite='allow-nan')\n\u001b[0m\u001b[1;32m    650\u001b[0m \u001b[0;34m\u001b[0m\u001b[0m\n\u001b[1;32m    651\u001b[0m         \u001b[0;31m# Even in the case of `with_mean=False`, we update the mean anyway\u001b[0m\u001b[0;34m\u001b[0m\u001b[0;34m\u001b[0m\u001b[0m\n",
      "\u001b[0;32m/Library/Frameworks/Python.framework/Versions/3.7/lib/python3.7/site-packages/sklearn/utils/validation.py\u001b[0m in \u001b[0;36mcheck_array\u001b[0;34m(array, accept_sparse, accept_large_sparse, dtype, order, copy, force_all_finite, ensure_2d, allow_nd, ensure_min_samples, ensure_min_features, warn_on_dtype, estimator)\u001b[0m\n\u001b[1;32m    550\u001b[0m                     \u001b[0;34m\"Reshape your data either using array.reshape(-1, 1) if \"\u001b[0m\u001b[0;34m\u001b[0m\u001b[0m\n\u001b[1;32m    551\u001b[0m                     \u001b[0;34m\"your data has a single feature or array.reshape(1, -1) \"\u001b[0m\u001b[0;34m\u001b[0m\u001b[0m\n\u001b[0;32m--> 552\u001b[0;31m                     \"if it contains a single sample.\".format(array))\n\u001b[0m\u001b[1;32m    553\u001b[0m \u001b[0;34m\u001b[0m\u001b[0m\n\u001b[1;32m    554\u001b[0m         \u001b[0;31m# in the future np.flexible dtypes will be handled like object dtypes\u001b[0m\u001b[0;34m\u001b[0m\u001b[0;34m\u001b[0m\u001b[0m\n",
      "\u001b[0;31mValueError\u001b[0m: Expected 2D array, got 1D array instead:\narray=[28.7 50.  28.  25.  20.6 13.8 10.9 18.5 17.8 19.2 13.6 12.3 43.5 17.2\n 17.6 14.5 18.5 20.  14.1 27.  19.9 16.1 22.3 37.6 42.3 27.5 17.4 37.3\n 18.7 24.1 12.  16.8 19.4  7.  23.6 13.9 23.3 20.8 20.  28.5 26.6 16.1\n 22.  23.6 19.1 44.  15.7 34.9 19.9 23.  20.1 29.8 19.6 13.4 16.6 30.8\n 36.  14.9 18.3 21.7 22.6 13.1 21.7 21.6 20.1 28.2 23.9 24.5 19.1 24.3\n 20.6 15.6 22.  19.5  9.5 13.8 33.  16.4 30.1 21.7 21.4 18.9 29.6 22.8\n 29.9 29.6 17.  10.2 22.6 21.2  7.4 14.4 23.1 22.6 20.4 36.4 22.9 19.4\n 35.4 29.  41.3 14.6 18.  44.8 15.6 50.  24.  20.3 17.4 20.4 23.8 19.1\n 23.9 25.  19.6 21.2 30.5 18.3 20.2 21.9 22.8 11.8 33.8 45.4 14.3 18.9\n 20.3 14.4 18.4 22.9 12.5 19.9 20.2 17.8 18.1 50.  31.2 21.9 17.9 23.8\n 19.9 19.5 24.1 13.5 14.2 13.8 33.4 15.6 30.1 22.5 32.7 23.2 27.9 20.5\n 50.  20.9 18.5 13.3 23.8 24.5 41.7 21.9 24.7 18.6  8.5 15.2 11.8 14.8\n 36.1 22.5 22.6 25.  46.7 22.9 21.  16.7 22.  30.7 19.4 32.  19.3 27.1\n 18.2 18.4  8.4 14.9 19.4 26.7 16.8 21.2 24.8 22.3 10.2 12.7 37.  20.1\n  6.3 24.8 33.1 17.7 17.5 10.8 22.7 21.8 16.5 20.8 36.2 32.9 20.7 23.4\n 21.4  8.8 32.  21.  13.9 27.5 17.2 18.9 33.3 10.2 17.2 22.8 22.  22.5\n 23.1 20.6 12.7 24.7 39.8 28.4 19.3 20.6 24.  20.3 34.9 12.6 24.8 19.3\n 10.9 28.6 23.2 21.5 15.6 26.4 14.3 24.4 36.5 24.6 16.5 43.1 11.7 18.2\n 20.  19.4 17.4 17.5 20.3 23.1 23.3 19.  28.7 34.7 17.1  8.4 50.  24.7\n 22.  11.5 23.1 22.  46.  24.3 13.3 13.4 22.8 16.6 18.8 50.  17.3 31.1\n 21.2 15.4 11.  20.9 20.  16.2 32.2 15.2  8.8 26.5 24.4 11.9 14.9 12.8\n 16.7 24.2 25.  23.  23.  24.5 18.7 20.6  7.2 50.  27.5 28.1 19.5 15.3\n 30.3 15.1 20.4 13.1 13.4 21.7 23.7 31.6 19.4 21.5 23.2 50.   7.2 12.1\n 22.9 25.  19.3 19.8 27.5 21.7 31.5 50.  14.5 21.2 13.  17.8 25.2 22.4\n 18.9 13.3 18.5 26.6 19.8 22.  10.4 48.3 26.4 22.2 10.4 50.  33.4 20.5\n 15.   5.  28.7 23.7 20.7 20.  20.4 29.1 29.8  8.3 21.4 23.5 21.  33.2\n 16.1 23.7 31.7 24.3 23.8 19.  14.  23.1 22.2 13.4 27.1  5.6 29.1 10.5\n 13.8].\nReshape your data either using array.reshape(-1, 1) if your data has a single feature or array.reshape(1, -1) if it contains a single sample."
     ]
    }
   ],
   "source": [
    "X_scaler = StandardScaler()\n",
    "y_scaler = StandardScaler()\n",
    "X_train = X_scaler.fit_transform(X_train)\n",
    "y_train = y_scaler.fit_transform(y_train)\n",
    "X_test = X_scaler.transform(X_test)\n",
    "y_test = y_scaler.transform(y_test)"
   ]
  },
  {
   "cell_type": "code",
   "execution_count": null,
   "metadata": {},
   "outputs": [],
   "source": []
  }
 ],
 "metadata": {
  "kernelspec": {
   "display_name": "Python 3",
   "language": "python",
   "name": "python3"
  },
  "language_info": {
   "codemirror_mode": {
    "name": "ipython",
    "version": 3
   },
   "file_extension": ".py",
   "mimetype": "text/x-python",
   "name": "python",
   "nbconvert_exporter": "python",
   "pygments_lexer": "ipython3",
   "version": "3.7.0"
  }
 },
 "nbformat": 4,
 "nbformat_minor": 2
}
